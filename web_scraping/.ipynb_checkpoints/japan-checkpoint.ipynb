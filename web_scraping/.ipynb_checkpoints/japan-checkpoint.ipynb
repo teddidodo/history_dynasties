{
 "cells": [
  {
   "cell_type": "markdown",
   "id": "62f17c6f-9ff8-4763-b552-1844d60ab595",
   "metadata": {},
   "source": [
    "# Web Scraping"
   ]
  },
  {
   "cell_type": "markdown",
   "id": "7cd6d953-1b0f-4939-8baf-7e14d906f3be",
   "metadata": {},
   "source": [
    "### Data format"
   ]
  },
  {
   "cell_type": "markdown",
   "id": "e7477515-a47b-468e-aa9a-10cc8e83233b",
   "metadata": {},
   "source": [
    "history_events: \n",
    "    + year, \n",
    "    + description\n",
    "    + country (in this case it will be Japan)"
   ]
  },
  {
   "cell_type": "code",
   "execution_count": 3,
   "id": "9d3d9cdb-be10-44fd-97cc-8e4e255713bc",
   "metadata": {},
   "outputs": [],
   "source": [
    "# !pip3 install beautifulsoup4"
   ]
  },
  {
   "cell_type": "code",
   "execution_count": 140,
   "id": "57ebac6b-ed47-4d92-8c5a-384193df64f5",
   "metadata": {},
   "outputs": [],
   "source": [
    "from bs4 import BeautifulSoup\n",
    "import requests\n",
    "import pandas as pd"
   ]
  },
  {
   "cell_type": "code",
   "execution_count": 5,
   "id": "60250a1f-847c-4921-ba39-9eec84959458",
   "metadata": {},
   "outputs": [],
   "source": [
    "# https://realpython.com/beautiful-soup-web-scraper-python/"
   ]
  },
  {
   "cell_type": "code",
   "execution_count": 9,
   "id": "5dccb59c-8d22-4fa1-807f-28f75b71dd58",
   "metadata": {},
   "outputs": [],
   "source": [
    "URL = \"https://en.wikipedia.org/wiki/Timeline_of_Japanese_history\"\n",
    "page = requests.get(URL)"
   ]
  },
  {
   "cell_type": "code",
   "execution_count": 10,
   "id": "9b222bed-85e4-4800-9ca9-1341f0c5fc0d",
   "metadata": {},
   "outputs": [],
   "source": [
    "soup = BeautifulSoup(page.content, \"html.parser\")"
   ]
  },
  {
   "cell_type": "code",
   "execution_count": 44,
   "id": "d0b5391f-9dd4-4941-988a-d6badd75930b",
   "metadata": {},
   "outputs": [],
   "source": [
    "h2_components = soup.find_all(\"h2\")"
   ]
  },
  {
   "cell_type": "code",
   "execution_count": 45,
   "id": "babdc69a-ec4b-40e0-b0d4-6be5a3e1c157",
   "metadata": {},
   "outputs": [
    {
     "data": {
      "text/plain": [
       "<h2><span class=\"mw-headline\" id=\"Paleolithic\">Paleolithic</span><span class=\"mw-editsection\"><span class=\"mw-editsection-bracket\">[</span><a href=\"/w/index.php?title=Timeline_of_Japanese_history&amp;action=edit&amp;section=1\" title=\"Edit section: Paleolithic\">edit</a><span class=\"mw-editsection-bracket\">]</span></span></h2>"
      ]
     },
     "execution_count": 45,
     "metadata": {},
     "output_type": "execute_result"
    }
   ],
   "source": [
    "h2_components[0]"
   ]
  },
  {
   "cell_type": "code",
   "execution_count": 63,
   "id": "85411a13-4ea3-4231-abf5-df420d2fb7a8",
   "metadata": {},
   "outputs": [
    {
     "ename": "AttributeError",
     "evalue": "'NoneType' object has no attribute 'text'",
     "output_type": "error",
     "traceback": [
      "\u001b[0;31m---------------------------------------------------------------------------\u001b[0m",
      "\u001b[0;31mAttributeError\u001b[0m                            Traceback (most recent call last)",
      "\u001b[0;32m/var/folders/lm/992dc1gs031b_50fb1kzqylc0000gn/T/ipykernel_48443/3275051508.py\u001b[0m in \u001b[0;36m<module>\u001b[0;34m\u001b[0m\n\u001b[1;32m      1\u001b[0m \u001b[0mtitles\u001b[0m \u001b[0;34m=\u001b[0m \u001b[0;34m[\u001b[0m\u001b[0;34m]\u001b[0m\u001b[0;34m\u001b[0m\u001b[0;34m\u001b[0m\u001b[0m\n\u001b[1;32m      2\u001b[0m \u001b[0;32mfor\u001b[0m \u001b[0mh2\u001b[0m \u001b[0;32min\u001b[0m \u001b[0mh2_components\u001b[0m\u001b[0;34m:\u001b[0m\u001b[0;34m\u001b[0m\u001b[0;34m\u001b[0m\u001b[0m\n\u001b[0;32m----> 3\u001b[0;31m     \u001b[0mtitle_element\u001b[0m \u001b[0;34m=\u001b[0m \u001b[0mh2\u001b[0m\u001b[0;34m.\u001b[0m\u001b[0mfind\u001b[0m\u001b[0;34m(\u001b[0m\u001b[0;34m\"span\"\u001b[0m\u001b[0;34m,\u001b[0m \u001b[0mclass_\u001b[0m\u001b[0;34m=\u001b[0m\u001b[0;34m\"mw-headline\"\u001b[0m\u001b[0;34m)\u001b[0m\u001b[0;34m.\u001b[0m\u001b[0mtext\u001b[0m\u001b[0;34m\u001b[0m\u001b[0;34m\u001b[0m\u001b[0m\n\u001b[0m\u001b[1;32m      4\u001b[0m     \u001b[0mtitles\u001b[0m\u001b[0;34m.\u001b[0m\u001b[0mappend\u001b[0m\u001b[0;34m(\u001b[0m\u001b[0mtitle_element\u001b[0m\u001b[0;34m)\u001b[0m\u001b[0;34m\u001b[0m\u001b[0;34m\u001b[0m\u001b[0m\n",
      "\u001b[0;31mAttributeError\u001b[0m: 'NoneType' object has no attribute 'text'"
     ]
    }
   ],
   "source": [
    "titles = []\n",
    "for h2 in h2_components:\n",
    "    title_element = h2.find(\"span\", class_=\"mw-headline\").text\n",
    "    titles.append(title_element)"
   ]
  },
  {
   "cell_type": "code",
   "execution_count": 64,
   "id": "be46e990-96c5-45a3-87ee-ce7bfbc99525",
   "metadata": {},
   "outputs": [
    {
     "data": {
      "text/plain": [
       "['Paleolithic',\n",
       " '3rd century BC',\n",
       " '1st century',\n",
       " '2nd century',\n",
       " '3rd century',\n",
       " '4th century',\n",
       " '5th century',\n",
       " '6th century',\n",
       " '7th century',\n",
       " '8th century',\n",
       " '9th century',\n",
       " '10th century',\n",
       " '11th century',\n",
       " '12th century',\n",
       " '13th century',\n",
       " '14th century',\n",
       " '15th century',\n",
       " '16th century',\n",
       " '17th century',\n",
       " '18th century',\n",
       " '19th century',\n",
       " '20th century',\n",
       " '21st century',\n",
       " 'See also',\n",
       " 'References and notes',\n",
       " 'Further reading',\n",
       " 'External links']"
      ]
     },
     "execution_count": 64,
     "metadata": {},
     "output_type": "execute_result"
    }
   ],
   "source": [
    "titles"
   ]
  },
  {
   "cell_type": "code",
   "execution_count": 118,
   "id": "604e2d45-cc2d-4018-a39c-9d167c0b44a5",
   "metadata": {},
   "outputs": [
    {
     "ename": "ValueError",
     "evalue": "list.remove(x): x not in list",
     "output_type": "error",
     "traceback": [
      "\u001b[0;31m---------------------------------------------------------------------------\u001b[0m",
      "\u001b[0;31mValueError\u001b[0m                                Traceback (most recent call last)",
      "\u001b[0;32m/var/folders/lm/992dc1gs031b_50fb1kzqylc0000gn/T/ipykernel_48443/1797236735.py\u001b[0m in \u001b[0;36m<module>\u001b[0;34m\u001b[0m\n\u001b[0;32m----> 1\u001b[0;31m \u001b[0mtitles\u001b[0m\u001b[0;34m.\u001b[0m\u001b[0mremove\u001b[0m\u001b[0;34m(\u001b[0m\u001b[0;34m'See also'\u001b[0m\u001b[0;34m)\u001b[0m\u001b[0;34m\u001b[0m\u001b[0;34m\u001b[0m\u001b[0m\n\u001b[0m\u001b[1;32m      2\u001b[0m \u001b[0mtitles\u001b[0m\u001b[0;34m.\u001b[0m\u001b[0mremove\u001b[0m\u001b[0;34m(\u001b[0m\u001b[0;34m'References and notes'\u001b[0m\u001b[0;34m)\u001b[0m\u001b[0;34m\u001b[0m\u001b[0;34m\u001b[0m\u001b[0m\n\u001b[1;32m      3\u001b[0m \u001b[0mtitles\u001b[0m\u001b[0;34m.\u001b[0m\u001b[0mremove\u001b[0m\u001b[0;34m(\u001b[0m\u001b[0;34m'Further reading'\u001b[0m\u001b[0;34m)\u001b[0m\u001b[0;34m\u001b[0m\u001b[0;34m\u001b[0m\u001b[0m\n\u001b[1;32m      4\u001b[0m \u001b[0mtitles\u001b[0m\u001b[0;34m.\u001b[0m\u001b[0mremove\u001b[0m\u001b[0;34m(\u001b[0m\u001b[0;34m'External links'\u001b[0m\u001b[0;34m)\u001b[0m\u001b[0;34m\u001b[0m\u001b[0;34m\u001b[0m\u001b[0m\n\u001b[1;32m      5\u001b[0m \u001b[0mlen\u001b[0m\u001b[0;34m(\u001b[0m\u001b[0mtitles\u001b[0m\u001b[0;34m)\u001b[0m\u001b[0;34m\u001b[0m\u001b[0;34m\u001b[0m\u001b[0m\n",
      "\u001b[0;31mValueError\u001b[0m: list.remove(x): x not in list"
     ]
    }
   ],
   "source": [
    "titles.remove('See also')\n",
    "titles.remove('References and notes')\n",
    "titles.remove('Further reading')\n",
    "titles.remove('External links')"
   ]
  },
  {
   "cell_type": "code",
   "execution_count": 119,
   "id": "208127b4-8903-4915-a3e1-1c86a585b306",
   "metadata": {},
   "outputs": [
    {
     "data": {
      "text/plain": [
       "23"
      ]
     },
     "execution_count": 119,
     "metadata": {},
     "output_type": "execute_result"
    }
   ],
   "source": [
    "len(titles)"
   ]
  },
  {
   "cell_type": "code",
   "execution_count": 120,
   "id": "9dff4f1e-29eb-495f-8310-2aa61f250139",
   "metadata": {},
   "outputs": [],
   "source": [
    "# Events"
   ]
  },
  {
   "cell_type": "code",
   "execution_count": 121,
   "id": "244d5059-b4dd-498c-a42e-cdd073ed885c",
   "metadata": {},
   "outputs": [],
   "source": [
    "tables = soup.find_all(\"table\", class_=\"wikitable\")"
   ]
  },
  {
   "cell_type": "code",
   "execution_count": 122,
   "id": "2f8284dc-1d08-4254-92c6-06f459a83a47",
   "metadata": {},
   "outputs": [
    {
     "data": {
      "text/plain": [
       "<table class=\"wikitable\" width=\"100%\">\n",
       "<tbody><tr>\n",
       "<th style=\"width:6%\">Year</th>\n",
       "<th style=\"width:10%\">Date</th>\n",
       "<th>Event\n",
       "</th></tr>\n",
       "<tr>\n",
       "<td><a href=\"/wiki/300_BC\" title=\"300 BC\">300 BC</a></td>\n",
       "<td></td>\n",
       "<td>Mass migration from the Asian continent to the Japanese archipelago ushered in the <a href=\"/wiki/Yayoi_period\" title=\"Yayoi period\">Yayoi period</a>. Japan transitioned from a hunter-gatherer to a settled agricultural society. There was a mixture between the Yayoi immigrants and the indigenous population, and between new cultural influences and existing practices.\n",
       "</td></tr></tbody></table>"
      ]
     },
     "execution_count": 122,
     "metadata": {},
     "output_type": "execute_result"
    }
   ],
   "source": [
    "tables[1]"
   ]
  },
  {
   "cell_type": "code",
   "execution_count": 187,
   "id": "2d07a0e2-e83f-4719-b65e-785cf0b7bc2a",
   "metadata": {},
   "outputs": [],
   "source": [
    "data = []\n",
    "count = 0\n",
    "old_year_value = -1\n",
    "def add_row_data(table):\n",
    "    row_data = {}\n",
    "    for tr in table.tbody.find_all(\"tr\"):\n",
    "        td = tr.find_all(\"td\")\n",
    "        data_row_length = len(td)        \n",
    "        if data_row_length == 3:\n",
    "            row_data[td[0].text] = td[2].text\n",
    "            old_year_value = td[0].text\n",
    "        else: # Only one case of two\n",
    "            print(td)\n",
    "#             row_data[old_year_value] = td[1].text\n",
    "    return row_data"
   ]
  },
  {
   "cell_type": "code",
   "execution_count": 188,
   "id": "907bc120-6f44-4090-a18a-451a83ca744d",
   "metadata": {},
   "outputs": [
    {
     "name": "stdout",
     "output_type": "stream",
     "text": [
      "[]\n",
      "[<td></td>, <td><a href=\"/wiki/Baekje\" title=\"Baekje\">Baekje</a> sends an embassy to Japan, as confirmed by both Japanese and Korean records.\n",
      "</td>]\n"
     ]
    },
    {
     "data": {
      "text/plain": [
       "{'404': 'Goguryeo–Wa conflicts between Wa, Baekje, and Gaya against Goguryeo and Silla\\n',\n",
       " '413': 'King of Wa sends 1st recorded tribute to the Jin.\\n',\n",
       " '430': 'Yamato polity become a regional power after subjugating several states in West Japan. Details are subject to Mimana controversy.\\n',\n",
       " '461': 'Chronology of the Japanese historical records become consistent. All dates before this entry are reconstructed with foreign or archaeological data.\\n'}"
      ]
     },
     "execution_count": 188,
     "metadata": {},
     "output_type": "execute_result"
    }
   ],
   "source": [
    "# titles: remember that now titles is a list of title such as 3rd Century BC\n",
    "add_row_data(tables[6])\n",
    "# data_dict = {\n",
    "#     \"year\": [],\n",
    "#     \"description\": [],\n",
    "#     \"period\": []\n",
    "# }\n",
    "# idx_title = 0\n",
    "# for table in tables:\n",
    "#     table_data = add_row_data(table)\n",
    "#     data_dict[\"year\"].append(table_data[0])\n",
    "#     data_dict[\"description\"].append(table_data[1])\n",
    "#     data_dict[\"period\"].append(titles[idx_title])\n",
    "#     idx_title += 1"
   ]
  },
  {
   "cell_type": "code",
   "execution_count": 145,
   "id": "1f5ca3dd-ed66-42be-a8b4-f09e7e296f0e",
   "metadata": {},
   "outputs": [
    {
     "data": {
      "text/plain": [
       "(23, 3)"
      ]
     },
     "execution_count": 145,
     "metadata": {},
     "output_type": "execute_result"
    }
   ],
   "source": [
    "df = pd.DataFrame(data_dict)\n",
    "df.shape"
   ]
  },
  {
   "cell_type": "code",
   "execution_count": null,
   "id": "1e721772-67e5-4041-b122-688406c5ddc3",
   "metadata": {},
   "outputs": [],
   "source": []
  },
  {
   "cell_type": "code",
   "execution_count": null,
   "id": "06e0c7e5-0948-4a1c-8ce0-d38087df8aba",
   "metadata": {},
   "outputs": [],
   "source": []
  }
 ],
 "metadata": {
  "kernelspec": {
   "display_name": "Python 3 (ipykernel)",
   "language": "python",
   "name": "python3"
  },
  "language_info": {
   "codemirror_mode": {
    "name": "ipython",
    "version": 3
   },
   "file_extension": ".py",
   "mimetype": "text/x-python",
   "name": "python",
   "nbconvert_exporter": "python",
   "pygments_lexer": "ipython3",
   "version": "3.9.2"
  }
 },
 "nbformat": 4,
 "nbformat_minor": 5
}

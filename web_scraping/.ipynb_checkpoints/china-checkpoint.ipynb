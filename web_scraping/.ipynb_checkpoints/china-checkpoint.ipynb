{
 "cells": [
  {
   "cell_type": "markdown",
   "id": "a10076a0-7aa4-4538-afea-6f615eaefd8b",
   "metadata": {},
   "source": [
    "# Web Scraping"
   ]
  },
  {
   "cell_type": "code",
   "execution_count": 2,
   "id": "981a916c-fa7a-48df-99d2-ef2503c5b925",
   "metadata": {},
   "outputs": [],
   "source": [
    "from bs4 import BeautifulSoup\n",
    "import requests\n",
    "import pandas as pd"
   ]
  },
  {
   "cell_type": "code",
   "execution_count": 3,
   "id": "f887a991-8044-4250-8ad4-55771cbd48f6",
   "metadata": {},
   "outputs": [],
   "source": [
    "URL = \"\"\n",
    "page = \"\""
   ]
  },
  {
   "cell_type": "code",
   "execution_count": 5,
   "id": "b9b93597-4cf8-4127-bbac-f8042137996e",
   "metadata": {},
   "outputs": [],
   "source": [
    "dynasties = {\n",
    "    \"Han\": \"https://en.wikipedia.org/wiki/Timeline_of_the_Han_dynasty\",\n",
    "    \"Sui\": \"https://en.wikipedia.org/wiki/Timeline_of_the_Sui_dynasty\",\n",
    "    \"Tang\": \"https://en.wikipedia.org/wiki/Timeline_of_the_Tang_dynasty\",\n",
    "    \"Song\": \"https://en.wikipedia.org/wiki/Timeline_of_the_Song_dynasty#:~:text=The%20Song%20dynasty%20is%20commonly,dynasty%20(1115%E2%80%931234).\",\n",
    "    \"Ming\": \"https://en.wikipedia.org/wiki/Timeline_of_the_Ming_dynasty\",\n",
    "    \"Qing\": \"https://en.wikipedia.org/wiki/Timeline_of_the_Qing_dynasty\"   \n",
    "}"
   ]
  },
  {
   "cell_type": "code",
   "execution_count": null,
   "id": "1eaa9d30-4d7d-4266-bf37-51d87c2b3e31",
   "metadata": {},
   "outputs": [],
   "source": [
    "# for dynasty in dynasties:\n",
    "#     URL = dynasties[dynasty]\n",
    "#     page = requests.get(URL)\n",
    "#     soup = BeautifulSoup(page.content, \"html.parser\")"
   ]
  },
  {
   "cell_type": "code",
   "execution_count": 6,
   "id": "dceb91c6-60be-4381-802b-f5f9040b935d",
   "metadata": {},
   "outputs": [],
   "source": [
    "URL = \"https://en.wikipedia.org/wiki/Timeline_of_the_Han_dynasty\"\n",
    "page = requests.get(URL)"
   ]
  },
  {
   "cell_type": "code",
   "execution_count": 7,
   "id": "3d9c649e-908f-435a-b244-e2bc679119e8",
   "metadata": {},
   "outputs": [],
   "source": [
    "soup = BeautifulSoup(page.content, \"html.parser\")"
   ]
  },
  {
   "cell_type": "code",
   "execution_count": 26,
   "id": "e1242a46-81f0-4b45-bd81-fefc690df3b4",
   "metadata": {},
   "outputs": [],
   "source": [
    "tables = soup.find_all(\"table\", class_=\"wikitable\")"
   ]
  },
  {
   "cell_type": "code",
   "execution_count": 27,
   "id": "b9b675bd-3242-49c4-9b98-8406505b9b0e",
   "metadata": {},
   "outputs": [
    {
     "data": {
      "text/plain": [
       "<table class=\"wikitable\" style=\"width:100%;\">\n",
       "<tbody><tr>\n",
       "<th style=\"width:6%\">Year</th>\n",
       "<th style=\"width:10%\">Date</th>\n",
       "<th>Event\n",
       "</th></tr>\n",
       "<tr>\n",
       "<td>197 BC</td>\n",
       "<td></td>\n",
       "<td>The <a href=\"/wiki/Xiongnu\" title=\"Xiongnu\">Xiongnu</a> invade <a href=\"/wiki/Dai_Commandery\" title=\"Dai Commandery\">Dai Commandery</a> with the help of <a href=\"/wiki/Chen_Xi_(rebel)\" title=\"Chen Xi (rebel)\">Chen Xi</a> and <a class=\"mw-redirect\" href=\"/wiki/Xin,_King_of_Han\" title=\"Xin, King of Han\">Han Xin</a><sup class=\"reference\" id=\"cite_ref-FOOTNOTEChang2007143_4-0\"><a href=\"#cite_note-FOOTNOTEChang2007143-4\">[4]</a></sup>\n",
       "</td></tr>\n",
       "<tr>\n",
       "<td rowspan=\"2\" style=\"vertical-align:top;\">196 BC</td>\n",
       "<td></td>\n",
       "<td><a href=\"/wiki/Emperor_Gaozu_of_Han\" title=\"Emperor Gaozu of Han\">Emperor Gaozu of Han</a> replaces nine of the ten <a href=\"/wiki/Kings_of_the_Han_dynasty\" title=\"Kings of the Han dynasty\">Kings of the Han dynasty</a> with his brothers and sons<sup class=\"reference\" id=\"cite_ref-FOOTNOTETwitchett2008124_5-0\"><a href=\"#cite_note-FOOTNOTETwitchett2008124-5\">[5]</a></sup>\n",
       "</td></tr>\n",
       "<tr>\n",
       "<td></td>\n",
       "<td>The <a href=\"/wiki/Xiongnu\" title=\"Xiongnu\">Xiongnu</a> invade <a href=\"/wiki/Dai_Commandery\" title=\"Dai Commandery\">Dai Commandery</a> with the help of <a class=\"mw-redirect\" href=\"/wiki/Xin,_King_of_Han\" title=\"Xin, King of Han\">Han Xin</a><sup class=\"reference\" id=\"cite_ref-FOOTNOTEChang2007143_4-1\"><a href=\"#cite_note-FOOTNOTEChang2007143-4\">[4]</a></sup>\n",
       "</td></tr>\n",
       "<tr>\n",
       "<td rowspan=\"2\" style=\"vertical-align:top;\">195 BC</td>\n",
       "<td>1 June</td>\n",
       "<td><a href=\"/wiki/Emperor_Gaozu_of_Han\" title=\"Emperor Gaozu of Han\">Emperor Gaozu of Han</a> dies and is succeeded by Liu Ying (posthumously <a href=\"/wiki/Emperor_Hui_of_Han\" title=\"Emperor Hui of Han\">Emperor Hui of Han</a>)<sup class=\"reference\" id=\"cite_ref-FOOTNOTETwitchett2008130_6-0\"><a href=\"#cite_note-FOOTNOTETwitchett2008130-6\">[6]</a></sup>\n",
       "</td></tr>\n",
       "<tr>\n",
       "<td></td>\n",
       "<td>The <a href=\"/wiki/Xiongnu\" title=\"Xiongnu\">Xiongnu</a> invade <a class=\"mw-redirect\" href=\"/wiki/You_Prefecture\" title=\"You Prefecture\">You Province</a> with the help of <a href=\"/wiki/Lu_Wan\" title=\"Lu Wan\">Lu Wan</a><sup class=\"reference\" id=\"cite_ref-FOOTNOTETwitchett2008124_5-1\"><a href=\"#cite_note-FOOTNOTETwitchett2008124-5\">[5]</a></sup>\n",
       "</td></tr></tbody></table>"
      ]
     },
     "execution_count": 27,
     "metadata": {},
     "output_type": "execute_result"
    }
   ],
   "source": [
    "tables[1]"
   ]
  },
  {
   "cell_type": "code",
   "execution_count": 48,
   "id": "141bca7b-e1c7-479c-9a57-c83e6d23cb90",
   "metadata": {},
   "outputs": [],
   "source": [
    "data = []\n",
    "count = 0\n",
    "old_year_value = -1\n",
    "def add_row_data(table):\n",
    "    row_data = {}\n",
    "    for tr in table.tbody.find_all(\"tr\"):\n",
    "        td = tr.find_all(\"td\")\n",
    "        data_row_length = len(td)  \n",
    "        # there is two cases: data rows is 3 or 2 (where the column is expanded)\n",
    "        if data_row_length == 3:\n",
    "            # td[0].getText() is the value from the year column\n",
    "            # td[2].text is the value from the event column\n",
    "            # we can skip the date column\n",
    "            year = td[0].getText().replace(\"\\\\n\", \"\").strip()\n",
    "            sup = td[2].find(\"sup\")\n",
    "            if sup:\n",
    "                sup.extract()\n",
    "            content = td[2].text.replace(\"\\\\n\", \"\").strip()\n",
    "            row_data[year] = []\n",
    "            row_data[year].append(content)\n",
    "            old_year_value = td[0].text\n",
    "        elif data_row_length == 2: \n",
    "            # old_year_value will have the value of the latest key from row_data\n",
    "            # so we can do this directly\n",
    "            sup = td[1].find(\"sup\")\n",
    "            if sup:\n",
    "                sup.extract()\n",
    "            content = td[1].text.replace(\"\\\\n\", \"\").strip()\n",
    "            row_data[old_year_value].append(content)\n",
    "    return row_data"
   ]
  },
  {
   "cell_type": "code",
   "execution_count": 49,
   "id": "0f0fddac-59b3-4437-af78-98907c4bcc75",
   "metadata": {},
   "outputs": [
    {
     "data": {
      "text/plain": [
       "{'148 BC': ['The Xiongnu attack Yan Province'],\n",
       " '144 BC': ['The Xiongnu raid Yanmen Pass for horses'],\n",
       " '142 BC': ['The Xiongnu attack Yanmen Pass'],\n",
       " '141 BC': ['Emperor Wen of Han dies and is succeeded by Liu Che (posthumously Emperor Wu of Han)']}"
      ]
     },
     "execution_count": 49,
     "metadata": {},
     "output_type": "execute_result"
    }
   ],
   "source": [
    "add_row_data(tables[6])"
   ]
  },
  {
   "cell_type": "code",
   "execution_count": 50,
   "id": "d3a1060b-3301-42f7-a417-c09c15dd9f40",
   "metadata": {},
   "outputs": [],
   "source": [
    "# titles: remember that now titles is a list of title such as 3rd Century BC\n",
    "data_dict = {\n",
    "    \"year\": [],\n",
    "    \"description\": [],\n",
    "#     \"period\": [],\n",
    "    \"current_country\": [],\n",
    "    \"country\": []\n",
    "}\n",
    "\n",
    "COUNTRY = \"China\"\n",
    "country_name = \"Han\"\n",
    "idx_title = 0\n",
    "for table in tables:\n",
    "    table_data = add_row_data(table)\n",
    "    for key in table_data:\n",
    "        for content in table_data[key]:\n",
    "            data_dict[\"year\"].append(key)\n",
    "            data_dict[\"description\"].append(content)\n",
    "#             data_dict[\"period\"].append(titles[idx_title])\n",
    "            data_dict[\"current_country\"].append(COUNTRY)\n",
    "            data_dict[\"country\"].append(country_name)\n",
    "    idx_title += 1"
   ]
  },
  {
   "cell_type": "code",
   "execution_count": 51,
   "id": "ad542b12-6573-42c5-ac3d-c9aa7872bfe8",
   "metadata": {},
   "outputs": [],
   "source": [
    "df = pd.DataFrame(data_dict)"
   ]
  },
  {
   "cell_type": "code",
   "execution_count": 52,
   "id": "177b2eb3-eb41-40a7-8828-4095a921246a",
   "metadata": {},
   "outputs": [
    {
     "data": {
      "text/html": [
       "<div>\n",
       "<style scoped>\n",
       "    .dataframe tbody tr th:only-of-type {\n",
       "        vertical-align: middle;\n",
       "    }\n",
       "\n",
       "    .dataframe tbody tr th {\n",
       "        vertical-align: top;\n",
       "    }\n",
       "\n",
       "    .dataframe thead th {\n",
       "        text-align: right;\n",
       "    }\n",
       "</style>\n",
       "<table border=\"1\" class=\"dataframe\">\n",
       "  <thead>\n",
       "    <tr style=\"text-align: right;\">\n",
       "      <th></th>\n",
       "      <th>year</th>\n",
       "      <th>description</th>\n",
       "      <th>current_country</th>\n",
       "      <th>country</th>\n",
       "    </tr>\n",
       "  </thead>\n",
       "  <tbody>\n",
       "    <tr>\n",
       "      <th>0</th>\n",
       "      <td>202 BC</td>\n",
       "      <td>Liu Bang becomes emperor of the Han dynasty (p...</td>\n",
       "      <td>China</td>\n",
       "      <td>Han</td>\n",
       "    </tr>\n",
       "    <tr>\n",
       "      <th>1</th>\n",
       "      <td>202 BC</td>\n",
       "      <td>Emperor Gaozu of Han moves the capital from Lu...</td>\n",
       "      <td>China</td>\n",
       "      <td>Han</td>\n",
       "    </tr>\n",
       "    <tr>\n",
       "      <th>2</th>\n",
       "      <td>201 BC</td>\n",
       "      <td>Battle of Baideng: Emperor Gaozu of Han's army...</td>\n",
       "      <td>China</td>\n",
       "      <td>Han</td>\n",
       "    </tr>\n",
       "    <tr>\n",
       "      <th>3</th>\n",
       "      <td>201 BC</td>\n",
       "      <td>Xin, King of Han defects to the Xiongnu</td>\n",
       "      <td>China</td>\n",
       "      <td>Han</td>\n",
       "    </tr>\n",
       "    <tr>\n",
       "      <th>4</th>\n",
       "      <td>197 BC</td>\n",
       "      <td>The Xiongnu invade Dai Commandery with the hel...</td>\n",
       "      <td>China</td>\n",
       "      <td>Han</td>\n",
       "    </tr>\n",
       "    <tr>\n",
       "      <th>...</th>\n",
       "      <td>...</td>\n",
       "      <td>...</td>\n",
       "      <td>...</td>\n",
       "      <td>...</td>\n",
       "    </tr>\n",
       "    <tr>\n",
       "      <th>248</th>\n",
       "      <td>219</td>\n",
       "      <td>Lü Meng's invasion of Jing Province: Sun Quan'...</td>\n",
       "      <td>China</td>\n",
       "      <td>Han</td>\n",
       "    </tr>\n",
       "    <tr>\n",
       "      <th>249</th>\n",
       "      <td>220</td>\n",
       "      <td>Guan Yu is executed by Sun Quan</td>\n",
       "      <td>China</td>\n",
       "      <td>Han</td>\n",
       "    </tr>\n",
       "    <tr>\n",
       "      <th>250</th>\n",
       "      <td>220</td>\n",
       "      <td>Cao Cao dies at Luoyang and is succeeded by hi...</td>\n",
       "      <td>China</td>\n",
       "      <td>Han</td>\n",
       "    </tr>\n",
       "    <tr>\n",
       "      <th>251</th>\n",
       "      <td>220</td>\n",
       "      <td>The Nine-rank system is implemented</td>\n",
       "      <td>China</td>\n",
       "      <td>Han</td>\n",
       "    </tr>\n",
       "    <tr>\n",
       "      <th>252</th>\n",
       "      <td>220</td>\n",
       "      <td>Cao Pi forces Emperor Xian of Han to abdicate ...</td>\n",
       "      <td>China</td>\n",
       "      <td>Han</td>\n",
       "    </tr>\n",
       "  </tbody>\n",
       "</table>\n",
       "<p>253 rows × 4 columns</p>\n",
       "</div>"
      ],
      "text/plain": [
       "       year                                        description  \\\n",
       "0    202 BC  Liu Bang becomes emperor of the Han dynasty (p...   \n",
       "1    202 BC  Emperor Gaozu of Han moves the capital from Lu...   \n",
       "2    201 BC  Battle of Baideng: Emperor Gaozu of Han's army...   \n",
       "3    201 BC            Xin, King of Han defects to the Xiongnu   \n",
       "4    197 BC  The Xiongnu invade Dai Commandery with the hel...   \n",
       "..      ...                                                ...   \n",
       "248     219  Lü Meng's invasion of Jing Province: Sun Quan'...   \n",
       "249     220                    Guan Yu is executed by Sun Quan   \n",
       "250     220  Cao Cao dies at Luoyang and is succeeded by hi...   \n",
       "251     220                The Nine-rank system is implemented   \n",
       "252     220  Cao Pi forces Emperor Xian of Han to abdicate ...   \n",
       "\n",
       "    current_country country  \n",
       "0             China     Han  \n",
       "1             China     Han  \n",
       "2             China     Han  \n",
       "3             China     Han  \n",
       "4             China     Han  \n",
       "..              ...     ...  \n",
       "248           China     Han  \n",
       "249           China     Han  \n",
       "250           China     Han  \n",
       "251           China     Han  \n",
       "252           China     Han  \n",
       "\n",
       "[253 rows x 4 columns]"
      ]
     },
     "execution_count": 52,
     "metadata": {},
     "output_type": "execute_result"
    }
   ],
   "source": [
    "df"
   ]
  },
  {
   "cell_type": "code",
   "execution_count": 53,
   "id": "50536250-9e75-4b06-aa38-60410a96a06e",
   "metadata": {},
   "outputs": [
    {
     "data": {
      "text/html": [
       "<div>\n",
       "<style scoped>\n",
       "    .dataframe tbody tr th:only-of-type {\n",
       "        vertical-align: middle;\n",
       "    }\n",
       "\n",
       "    .dataframe tbody tr th {\n",
       "        vertical-align: top;\n",
       "    }\n",
       "\n",
       "    .dataframe thead th {\n",
       "        text-align: right;\n",
       "    }\n",
       "</style>\n",
       "<table border=\"1\" class=\"dataframe\">\n",
       "  <thead>\n",
       "    <tr style=\"text-align: right;\">\n",
       "      <th></th>\n",
       "      <th>year</th>\n",
       "      <th>description</th>\n",
       "      <th>current_country</th>\n",
       "      <th>country</th>\n",
       "    </tr>\n",
       "  </thead>\n",
       "  <tbody>\n",
       "    <tr>\n",
       "      <th>97</th>\n",
       "      <td>65 BC</td>\n",
       "      <td>Han forces under Feng Fenshi force the king of...</td>\n",
       "      <td>China</td>\n",
       "      <td>Han</td>\n",
       "    </tr>\n",
       "    <tr>\n",
       "      <th>98</th>\n",
       "      <td>65 BC</td>\n",
       "      <td>Han vassalizes Qiuci</td>\n",
       "      <td>China</td>\n",
       "      <td>Han</td>\n",
       "    </tr>\n",
       "    <tr>\n",
       "      <th>99</th>\n",
       "      <td>65 BC</td>\n",
       "      <td>The Qiang revolt in eastern Tibet</td>\n",
       "      <td>China</td>\n",
       "      <td>Han</td>\n",
       "    </tr>\n",
       "  </tbody>\n",
       "</table>\n",
       "</div>"
      ],
      "text/plain": [
       "     year                                        description current_country  \\\n",
       "97  65 BC  Han forces under Feng Fenshi force the king of...           China   \n",
       "98  65 BC                               Han vassalizes Qiuci           China   \n",
       "99  65 BC                  The Qiang revolt in eastern Tibet           China   \n",
       "\n",
       "   country  \n",
       "97     Han  \n",
       "98     Han  \n",
       "99     Han  "
      ]
     },
     "execution_count": 53,
     "metadata": {},
     "output_type": "execute_result"
    }
   ],
   "source": [
    "df[df[\"year\"]==\"65 BC\"]"
   ]
  },
  {
   "cell_type": "code",
   "execution_count": 72,
   "id": "0ac5e803-f527-49f1-8466-92f8468dd294",
   "metadata": {},
   "outputs": [],
   "source": [
    "def convert_year_period(year):\n",
    "    addition = {\n",
    "        1: \"st century\",\n",
    "        2: \"nd century\",\n",
    "        3: \"rd century\"\n",
    "    }\n",
    "    if \"BC\" in year:\n",
    "        century = int(year[0]) + 1\n",
    "        get_addition = addition.get(century) if not addition.get(century) else \"\"\n",
    "        return str(century) + get_addition + \" \" + \"BC\""
   ]
  },
  {
   "cell_type": "code",
   "execution_count": 75,
   "id": "9e509260-db90-4ed7-a88d-5a659b656598",
   "metadata": {},
   "outputs": [
    {
     "ename": "TypeError",
     "evalue": "can only concatenate str (not \"NoneType\") to str",
     "output_type": "error",
     "traceback": [
      "\u001b[0;31m---------------------------------------------------------------------------\u001b[0m",
      "\u001b[0;31mTypeError\u001b[0m                                 Traceback (most recent call last)",
      "\u001b[0;32m/var/folders/lm/992dc1gs031b_50fb1kzqylc0000gn/T/ipykernel_539/3207118708.py\u001b[0m in \u001b[0;36m<module>\u001b[0;34m\u001b[0m\n\u001b[0;32m----> 1\u001b[0;31m \u001b[0mconvert_year_period\u001b[0m\u001b[0;34m(\u001b[0m\u001b[0;34m\"8 BC\"\u001b[0m\u001b[0;34m)\u001b[0m\u001b[0;34m\u001b[0m\u001b[0;34m\u001b[0m\u001b[0m\n\u001b[0m",
      "\u001b[0;32m/var/folders/lm/992dc1gs031b_50fb1kzqylc0000gn/T/ipykernel_539/1597575370.py\u001b[0m in \u001b[0;36mconvert_year_period\u001b[0;34m(year)\u001b[0m\n\u001b[1;32m      7\u001b[0m     \u001b[0;32mif\u001b[0m \u001b[0;34m\"BC\"\u001b[0m \u001b[0;32min\u001b[0m \u001b[0myear\u001b[0m\u001b[0;34m:\u001b[0m\u001b[0;34m\u001b[0m\u001b[0;34m\u001b[0m\u001b[0m\n\u001b[1;32m      8\u001b[0m         \u001b[0mcentury\u001b[0m \u001b[0;34m=\u001b[0m \u001b[0mint\u001b[0m\u001b[0;34m(\u001b[0m\u001b[0myear\u001b[0m\u001b[0;34m[\u001b[0m\u001b[0;36m0\u001b[0m\u001b[0;34m]\u001b[0m\u001b[0;34m)\u001b[0m \u001b[0;34m+\u001b[0m \u001b[0;36m1\u001b[0m\u001b[0;34m\u001b[0m\u001b[0;34m\u001b[0m\u001b[0m\n\u001b[0;32m----> 9\u001b[0;31m         \u001b[0;32mreturn\u001b[0m \u001b[0mstr\u001b[0m\u001b[0;34m(\u001b[0m\u001b[0mcentury\u001b[0m\u001b[0;34m)\u001b[0m \u001b[0;34m+\u001b[0m \u001b[0maddition\u001b[0m\u001b[0;34m.\u001b[0m\u001b[0mget\u001b[0m\u001b[0;34m(\u001b[0m\u001b[0mcentury\u001b[0m\u001b[0;34m)\u001b[0m \u001b[0;34m+\u001b[0m \u001b[0;34m\" \"\u001b[0m \u001b[0;34m+\u001b[0m \u001b[0;34m\"BC\"\u001b[0m\u001b[0;34m\u001b[0m\u001b[0;34m\u001b[0m\u001b[0m\n\u001b[0m",
      "\u001b[0;31mTypeError\u001b[0m: can only concatenate str (not \"NoneType\") to str"
     ]
    }
   ],
   "source": [
    "convert_year_period(\"8 BC\")"
   ]
  },
  {
   "cell_type": "code",
   "execution_count": null,
   "id": "01a26ffa-1561-4357-b566-3e0c5ff1f947",
   "metadata": {},
   "outputs": [],
   "source": []
  }
 ],
 "metadata": {
  "kernelspec": {
   "display_name": "Python 3 (ipykernel)",
   "language": "python",
   "name": "python3"
  },
  "language_info": {
   "codemirror_mode": {
    "name": "ipython",
    "version": 3
   },
   "file_extension": ".py",
   "mimetype": "text/x-python",
   "name": "python",
   "nbconvert_exporter": "python",
   "pygments_lexer": "ipython3",
   "version": "3.9.2"
  }
 },
 "nbformat": 4,
 "nbformat_minor": 5
}

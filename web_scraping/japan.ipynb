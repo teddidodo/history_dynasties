{
 "cells": [
  {
   "cell_type": "markdown",
   "id": "62f17c6f-9ff8-4763-b552-1844d60ab595",
   "metadata": {},
   "source": [
    "# Web Scraping"
   ]
  },
  {
   "cell_type": "markdown",
   "id": "15bc150d-c5a0-47e8-8292-b9d79b138000",
   "metadata": {},
   "source": [
    "### To events.csv"
   ]
  },
  {
   "cell_type": "code",
   "execution_count": 1,
   "id": "9d3d9cdb-be10-44fd-97cc-8e4e255713bc",
   "metadata": {},
   "outputs": [],
   "source": [
    "# !pip3 install beautifulsoup4"
   ]
  },
  {
   "cell_type": "code",
   "execution_count": 2,
   "id": "57ebac6b-ed47-4d92-8c5a-384193df64f5",
   "metadata": {},
   "outputs": [],
   "source": [
    "from bs4 import BeautifulSoup\n",
    "import requests\n",
    "import pandas as pd"
   ]
  },
  {
   "cell_type": "code",
   "execution_count": 3,
   "id": "60250a1f-847c-4921-ba39-9eec84959458",
   "metadata": {},
   "outputs": [],
   "source": [
    "# https://realpython.com/beautiful-soup-web-scraper-python/"
   ]
  },
  {
   "cell_type": "code",
   "execution_count": 4,
   "id": "5dccb59c-8d22-4fa1-807f-28f75b71dd58",
   "metadata": {},
   "outputs": [],
   "source": [
    "URL = \"https://en.wikipedia.org/wiki/Timeline_of_Japanese_history\"\n",
    "page = requests.get(URL)"
   ]
  },
  {
   "cell_type": "code",
   "execution_count": 5,
   "id": "9b222bed-85e4-4800-9ca9-1341f0c5fc0d",
   "metadata": {},
   "outputs": [],
   "source": [
    "soup = BeautifulSoup(page.content, \"html.parser\")"
   ]
  },
  {
   "cell_type": "code",
   "execution_count": 6,
   "id": "d0b5391f-9dd4-4941-988a-d6badd75930b",
   "metadata": {},
   "outputs": [],
   "source": [
    "h2_components = soup.find_all(\"h2\")"
   ]
  },
  {
   "cell_type": "code",
   "execution_count": 7,
   "id": "babdc69a-ec4b-40e0-b0d4-6be5a3e1c157",
   "metadata": {},
   "outputs": [
    {
     "data": {
      "text/plain": [
       "<h2><span class=\"mw-headline\" id=\"Paleolithic\">Paleolithic</span><span class=\"mw-editsection\"><span class=\"mw-editsection-bracket\">[</span><a href=\"/w/index.php?title=Timeline_of_Japanese_history&amp;action=edit&amp;section=1\" title=\"Edit section: Paleolithic\">edit</a><span class=\"mw-editsection-bracket\">]</span></span></h2>"
      ]
     },
     "execution_count": 7,
     "metadata": {},
     "output_type": "execute_result"
    }
   ],
   "source": [
    "h2_components[0]"
   ]
  },
  {
   "cell_type": "code",
   "execution_count": 8,
   "id": "85411a13-4ea3-4231-abf5-df420d2fb7a8",
   "metadata": {},
   "outputs": [
    {
     "ename": "AttributeError",
     "evalue": "'NoneType' object has no attribute 'text'",
     "output_type": "error",
     "traceback": [
      "\u001b[0;31m---------------------------------------------------------------------------\u001b[0m",
      "\u001b[0;31mAttributeError\u001b[0m                            Traceback (most recent call last)",
      "\u001b[0;32m/var/folders/lm/992dc1gs031b_50fb1kzqylc0000gn/T/ipykernel_24765/3275051508.py\u001b[0m in \u001b[0;36m<module>\u001b[0;34m\u001b[0m\n\u001b[1;32m      1\u001b[0m \u001b[0mtitles\u001b[0m \u001b[0;34m=\u001b[0m \u001b[0;34m[\u001b[0m\u001b[0;34m]\u001b[0m\u001b[0;34m\u001b[0m\u001b[0;34m\u001b[0m\u001b[0m\n\u001b[1;32m      2\u001b[0m \u001b[0;32mfor\u001b[0m \u001b[0mh2\u001b[0m \u001b[0;32min\u001b[0m \u001b[0mh2_components\u001b[0m\u001b[0;34m:\u001b[0m\u001b[0;34m\u001b[0m\u001b[0;34m\u001b[0m\u001b[0m\n\u001b[0;32m----> 3\u001b[0;31m     \u001b[0mtitle_element\u001b[0m \u001b[0;34m=\u001b[0m \u001b[0mh2\u001b[0m\u001b[0;34m.\u001b[0m\u001b[0mfind\u001b[0m\u001b[0;34m(\u001b[0m\u001b[0;34m\"span\"\u001b[0m\u001b[0;34m,\u001b[0m \u001b[0mclass_\u001b[0m\u001b[0;34m=\u001b[0m\u001b[0;34m\"mw-headline\"\u001b[0m\u001b[0;34m)\u001b[0m\u001b[0;34m.\u001b[0m\u001b[0mtext\u001b[0m\u001b[0;34m\u001b[0m\u001b[0;34m\u001b[0m\u001b[0m\n\u001b[0m\u001b[1;32m      4\u001b[0m     \u001b[0mtitles\u001b[0m\u001b[0;34m.\u001b[0m\u001b[0mappend\u001b[0m\u001b[0;34m(\u001b[0m\u001b[0mtitle_element\u001b[0m\u001b[0;34m)\u001b[0m\u001b[0;34m\u001b[0m\u001b[0;34m\u001b[0m\u001b[0m\n",
      "\u001b[0;31mAttributeError\u001b[0m: 'NoneType' object has no attribute 'text'"
     ]
    }
   ],
   "source": [
    "titles = []\n",
    "for h2 in h2_components:\n",
    "    title_element = h2.find(\"span\", class_=\"mw-headline\").text\n",
    "    titles.append(title_element)"
   ]
  },
  {
   "cell_type": "code",
   "execution_count": 9,
   "id": "be46e990-96c5-45a3-87ee-ce7bfbc99525",
   "metadata": {},
   "outputs": [
    {
     "data": {
      "text/plain": [
       "['Paleolithic',\n",
       " '3rd century BC',\n",
       " '1st century',\n",
       " '2nd century',\n",
       " '3rd century',\n",
       " '4th century',\n",
       " '5th century',\n",
       " '6th century',\n",
       " '7th century',\n",
       " '8th century',\n",
       " '9th century',\n",
       " '10th century',\n",
       " '11th century',\n",
       " '12th century',\n",
       " '13th century',\n",
       " '14th century',\n",
       " '15th century',\n",
       " '16th century',\n",
       " '17th century',\n",
       " '18th century',\n",
       " '19th century',\n",
       " '20th century',\n",
       " '21st century',\n",
       " 'See also',\n",
       " 'References and notes',\n",
       " 'Further reading',\n",
       " 'External links']"
      ]
     },
     "execution_count": 9,
     "metadata": {},
     "output_type": "execute_result"
    }
   ],
   "source": [
    "titles"
   ]
  },
  {
   "cell_type": "code",
   "execution_count": 10,
   "id": "604e2d45-cc2d-4018-a39c-9d167c0b44a5",
   "metadata": {},
   "outputs": [],
   "source": [
    "titles.remove('See also')\n",
    "titles.remove('References and notes')\n",
    "titles.remove('Further reading')\n",
    "titles.remove('External links')"
   ]
  },
  {
   "cell_type": "code",
   "execution_count": 11,
   "id": "208127b4-8903-4915-a3e1-1c86a585b306",
   "metadata": {},
   "outputs": [
    {
     "data": {
      "text/plain": [
       "23"
      ]
     },
     "execution_count": 11,
     "metadata": {},
     "output_type": "execute_result"
    }
   ],
   "source": [
    "len(titles)"
   ]
  },
  {
   "cell_type": "code",
   "execution_count": 12,
   "id": "9dff4f1e-29eb-495f-8310-2aa61f250139",
   "metadata": {},
   "outputs": [],
   "source": [
    "# Events"
   ]
  },
  {
   "cell_type": "code",
   "execution_count": 13,
   "id": "244d5059-b4dd-498c-a42e-cdd073ed885c",
   "metadata": {},
   "outputs": [],
   "source": [
    "tables = soup.find_all(\"table\", class_=\"wikitable\")"
   ]
  },
  {
   "cell_type": "code",
   "execution_count": 14,
   "id": "2f8284dc-1d08-4254-92c6-06f459a83a47",
   "metadata": {},
   "outputs": [
    {
     "data": {
      "text/plain": [
       "<table class=\"wikitable\" width=\"100%\">\n",
       "<tbody><tr>\n",
       "<th style=\"width:6%\">Year</th>\n",
       "<th style=\"width:10%\">Date</th>\n",
       "<th>Event\n",
       "</th></tr>\n",
       "<tr>\n",
       "<td><a href=\"/wiki/300_BC\" title=\"300 BC\">300 BC</a></td>\n",
       "<td></td>\n",
       "<td>Mass migration from the Asian continent to the Japanese archipelago ushered in the <a href=\"/wiki/Yayoi_period\" title=\"Yayoi period\">Yayoi period</a>. Japan transitioned from a hunter-gatherer to a settled agricultural society. There was a mixture between the Yayoi immigrants and the indigenous population, and between new cultural influences and existing practices.\n",
       "</td></tr></tbody></table>"
      ]
     },
     "execution_count": 14,
     "metadata": {},
     "output_type": "execute_result"
    }
   ],
   "source": [
    "tables[1]"
   ]
  },
  {
   "cell_type": "code",
   "execution_count": 15,
   "id": "2d07a0e2-e83f-4719-b65e-785cf0b7bc2a",
   "metadata": {},
   "outputs": [],
   "source": [
    "data = []\n",
    "count = 0\n",
    "old_year_value = -1\n",
    "def add_row_data(table):\n",
    "    row_data = {}\n",
    "    for tr in table.tbody.find_all(\"tr\"):\n",
    "        td = tr.find_all(\"td\")\n",
    "        data_row_length = len(td)  \n",
    "        # there is two cases: data rows is 3 or 2 (where the column is expanded)\n",
    "        if data_row_length == 3:\n",
    "            # td[0].getText() is the value from the year column\n",
    "            # td[2].text is the value from the event column\n",
    "            # we can skip the date column\n",
    "            row_data[td[0].getText().replace(\"\\\\n\", \"\").strip()] = []\n",
    "            row_data[td[0].getText().replace(\"\\\\n\", \"\").strip()].append(td[2].text.replace(\"\\\\n\", \"\").strip())\n",
    "            old_year_value = td[0].text\n",
    "        elif data_row_length == 2: \n",
    "            # old_year_value will have the value of the latest key from row_data\n",
    "            # so we can do this directly\n",
    "            row_data[old_year_value].append(td[1].text.replace(\"\\\\n\", \"\").strip())\n",
    "    return row_data"
   ]
  },
  {
   "cell_type": "code",
   "execution_count": 24,
   "id": "907bc120-6f44-4090-a18a-451a83ca744d",
   "metadata": {},
   "outputs": [],
   "source": [
    "# titles: remember that now titles is a list of title such as 3rd Century BC\n",
    "data_dict = {\n",
    "    \"year\": [],\n",
    "    \"description\": [],\n",
    "    \"period\": [],\n",
    "#     \"current_country\": [],\n",
    "#     \"country\": []\n",
    "    \"dynasty_id\": []\n",
    "}\n",
    "\n",
    "# COUNTRY = \"Japan\"\n",
    "# country_name = \"Japan\"\n",
    "idx_title = 0\n",
    "for table in tables:\n",
    "    table_data = add_row_data(table)\n",
    "    for key in table_data:\n",
    "        for content in table_data[key]:\n",
    "            data_dict[\"year\"].append(key)\n",
    "            data_dict[\"description\"].append(content)\n",
    "            data_dict[\"period\"].append(titles[idx_title])\n",
    "            data_dict[\"dynasty_id\"].append(\"0\")\n",
    "#             data_dict[\"current_country\"].append(COUNTRY)\n",
    "#             data_dict[\"country\"].append(country_name)\n",
    "    idx_title += 1"
   ]
  },
  {
   "cell_type": "code",
   "execution_count": 25,
   "id": "eab727d4-953c-40ec-97b1-391aefa2933a",
   "metadata": {},
   "outputs": [
    {
     "data": {
      "text/plain": [
       "{'404': ['Goguryeo–Wa conflicts between Wa, Baekje, and Gaya against Goguryeo and Silla'],\n",
       " '413': ['King of Wa sends 1st recorded tribute to the Jin.'],\n",
       " '430': ['Yamato polity become a regional power after subjugating several states in West Japan. Details are subject to Mimana controversy.'],\n",
       " '461': ['Chronology of the Japanese historical records become consistent. All dates before this entry are reconstructed with foreign or archaeological data.',\n",
       "  'Baekje sends an embassy to Japan, as confirmed by both Japanese and Korean records.']}"
      ]
     },
     "execution_count": 25,
     "metadata": {},
     "output_type": "execute_result"
    }
   ],
   "source": [
    "add_row_data(tables[6])"
   ]
  },
  {
   "cell_type": "code",
   "execution_count": 26,
   "id": "1f5ca3dd-ed66-42be-a8b4-f09e7e296f0e",
   "metadata": {},
   "outputs": [
    {
     "data": {
      "text/html": [
       "<div>\n",
       "<style scoped>\n",
       "    .dataframe tbody tr th:only-of-type {\n",
       "        vertical-align: middle;\n",
       "    }\n",
       "\n",
       "    .dataframe tbody tr th {\n",
       "        vertical-align: top;\n",
       "    }\n",
       "\n",
       "    .dataframe thead th {\n",
       "        text-align: right;\n",
       "    }\n",
       "</style>\n",
       "<table border=\"1\" class=\"dataframe\">\n",
       "  <thead>\n",
       "    <tr style=\"text-align: right;\">\n",
       "      <th></th>\n",
       "      <th>year</th>\n",
       "      <th>description</th>\n",
       "      <th>period</th>\n",
       "      <th>dynasty_id</th>\n",
       "    </tr>\n",
       "  </thead>\n",
       "  <tbody>\n",
       "    <tr>\n",
       "      <th>0</th>\n",
       "      <td>14000 BC</td>\n",
       "      <td>First settlers arrived in the Japanese archipe...</td>\n",
       "      <td>Paleolithic</td>\n",
       "      <td>0</td>\n",
       "    </tr>\n",
       "    <tr>\n",
       "      <th>1</th>\n",
       "      <td>300 BC</td>\n",
       "      <td>Mass migration from the Asian continent to the...</td>\n",
       "      <td>3rd century BC</td>\n",
       "      <td>0</td>\n",
       "    </tr>\n",
       "    <tr>\n",
       "      <th>2</th>\n",
       "      <td>57</td>\n",
       "      <td>The King of Na gold seal is issued by Emperor ...</td>\n",
       "      <td>1st century</td>\n",
       "      <td>0</td>\n",
       "    </tr>\n",
       "    <tr>\n",
       "      <th>3</th>\n",
       "      <td>180</td>\n",
       "      <td>The Civil war of Wa ends, bringing Shaman quee...</td>\n",
       "      <td>2nd century</td>\n",
       "      <td>0</td>\n",
       "    </tr>\n",
       "    <tr>\n",
       "      <th>4</th>\n",
       "      <td>201</td>\n",
       "      <td>The Nagata Shrine, Hirota Shrine and Ikuta Shr...</td>\n",
       "      <td>3rd century</td>\n",
       "      <td>0</td>\n",
       "    </tr>\n",
       "    <tr>\n",
       "      <th>...</th>\n",
       "      <td>...</td>\n",
       "      <td>...</td>\n",
       "      <td>...</td>\n",
       "      <td>...</td>\n",
       "    </tr>\n",
       "    <tr>\n",
       "      <th>305</th>\n",
       "      <td>2018</td>\n",
       "      <td>The tourist boom in Japan reach unprecedented ...</td>\n",
       "      <td>21st century</td>\n",
       "      <td>0</td>\n",
       "    </tr>\n",
       "    <tr>\n",
       "      <th>306</th>\n",
       "      <td>2019</td>\n",
       "      <td>Emperor Akihito abdicated being the first Japa...</td>\n",
       "      <td>21st century</td>\n",
       "      <td>0</td>\n",
       "    </tr>\n",
       "    <tr>\n",
       "      <th>307</th>\n",
       "      <td>2020</td>\n",
       "      <td>The COVID-19 pandemic in Japan begins and the ...</td>\n",
       "      <td>21st century</td>\n",
       "      <td>0</td>\n",
       "    </tr>\n",
       "    <tr>\n",
       "      <th>308</th>\n",
       "      <td>2021</td>\n",
       "      <td>2020 Summer Olympics are held in Japan.</td>\n",
       "      <td>21st century</td>\n",
       "      <td>0</td>\n",
       "    </tr>\n",
       "    <tr>\n",
       "      <th>309</th>\n",
       "      <td>2022</td>\n",
       "      <td>Former Prime Minister Shinzo Abe is assassinat...</td>\n",
       "      <td>21st century</td>\n",
       "      <td>0</td>\n",
       "    </tr>\n",
       "  </tbody>\n",
       "</table>\n",
       "<p>310 rows × 4 columns</p>\n",
       "</div>"
      ],
      "text/plain": [
       "         year                                        description  \\\n",
       "0    14000 BC  First settlers arrived in the Japanese archipe...   \n",
       "1      300 BC  Mass migration from the Asian continent to the...   \n",
       "2          57  The King of Na gold seal is issued by Emperor ...   \n",
       "3         180  The Civil war of Wa ends, bringing Shaman quee...   \n",
       "4         201  The Nagata Shrine, Hirota Shrine and Ikuta Shr...   \n",
       "..        ...                                                ...   \n",
       "305      2018  The tourist boom in Japan reach unprecedented ...   \n",
       "306      2019  Emperor Akihito abdicated being the first Japa...   \n",
       "307      2020  The COVID-19 pandemic in Japan begins and the ...   \n",
       "308      2021            2020 Summer Olympics are held in Japan.   \n",
       "309      2022  Former Prime Minister Shinzo Abe is assassinat...   \n",
       "\n",
       "             period dynasty_id  \n",
       "0       Paleolithic          0  \n",
       "1    3rd century BC          0  \n",
       "2       1st century          0  \n",
       "3       2nd century          0  \n",
       "4       3rd century          0  \n",
       "..              ...        ...  \n",
       "305    21st century          0  \n",
       "306    21st century          0  \n",
       "307    21st century          0  \n",
       "308    21st century          0  \n",
       "309    21st century          0  \n",
       "\n",
       "[310 rows x 4 columns]"
      ]
     },
     "execution_count": 26,
     "metadata": {},
     "output_type": "execute_result"
    }
   ],
   "source": [
    "df = pd.DataFrame(data_dict)\n",
    "df"
   ]
  },
  {
   "cell_type": "code",
   "execution_count": 27,
   "id": "1e721772-67e5-4041-b122-688406c5ddc3",
   "metadata": {},
   "outputs": [
    {
     "data": {
      "text/html": [
       "<div>\n",
       "<style scoped>\n",
       "    .dataframe tbody tr th:only-of-type {\n",
       "        vertical-align: middle;\n",
       "    }\n",
       "\n",
       "    .dataframe tbody tr th {\n",
       "        vertical-align: top;\n",
       "    }\n",
       "\n",
       "    .dataframe thead th {\n",
       "        text-align: right;\n",
       "    }\n",
       "</style>\n",
       "<table border=\"1\" class=\"dataframe\">\n",
       "  <thead>\n",
       "    <tr style=\"text-align: right;\">\n",
       "      <th></th>\n",
       "      <th>year</th>\n",
       "      <th>description</th>\n",
       "      <th>period</th>\n",
       "      <th>dynasty_id</th>\n",
       "    </tr>\n",
       "  </thead>\n",
       "  <tbody>\n",
       "    <tr>\n",
       "      <th>16</th>\n",
       "      <td>461</td>\n",
       "      <td>Chronology of the Japanese historical records ...</td>\n",
       "      <td>5th century</td>\n",
       "      <td>0</td>\n",
       "    </tr>\n",
       "    <tr>\n",
       "      <th>17</th>\n",
       "      <td>461</td>\n",
       "      <td>Baekje sends an embassy to Japan, as confirmed...</td>\n",
       "      <td>5th century</td>\n",
       "      <td>0</td>\n",
       "    </tr>\n",
       "    <tr>\n",
       "      <th>102</th>\n",
       "      <td>1192</td>\n",
       "      <td>Kamakura became the de facto capital of Japan ...</td>\n",
       "      <td>12th century</td>\n",
       "      <td>0</td>\n",
       "    </tr>\n",
       "    <tr>\n",
       "      <th>103</th>\n",
       "      <td>1192</td>\n",
       "      <td>Minamoto no Yoritomo seized power from the cen...</td>\n",
       "      <td>12th century</td>\n",
       "      <td>0</td>\n",
       "    </tr>\n",
       "    <tr>\n",
       "      <th>203</th>\n",
       "      <td>1854</td>\n",
       "      <td>Second Visit. Matthew C. Perry returns to Japa...</td>\n",
       "      <td>19th century</td>\n",
       "      <td>0</td>\n",
       "    </tr>\n",
       "    <tr>\n",
       "      <th>204</th>\n",
       "      <td>1854</td>\n",
       "      <td>Matthew C. Perry signs the Convention of Kanag...</td>\n",
       "      <td>19th century</td>\n",
       "      <td>0</td>\n",
       "    </tr>\n",
       "    <tr>\n",
       "      <th>205</th>\n",
       "      <td>1854</td>\n",
       "      <td>The Ansei great earthquakes series starts with...</td>\n",
       "      <td>19th century</td>\n",
       "      <td>0</td>\n",
       "    </tr>\n",
       "    <tr>\n",
       "      <th>213</th>\n",
       "      <td>1863</td>\n",
       "      <td>Order to expel barbarians</td>\n",
       "      <td>19th century</td>\n",
       "      <td>0</td>\n",
       "    </tr>\n",
       "    <tr>\n",
       "      <th>214</th>\n",
       "      <td>1863</td>\n",
       "      <td>Battle of Shimonoseki Straits</td>\n",
       "      <td>19th century</td>\n",
       "      <td>0</td>\n",
       "    </tr>\n",
       "    <tr>\n",
       "      <th>215</th>\n",
       "      <td>1863</td>\n",
       "      <td>Bombardment of Kagoshima</td>\n",
       "      <td>19th century</td>\n",
       "      <td>0</td>\n",
       "    </tr>\n",
       "    <tr>\n",
       "      <th>216</th>\n",
       "      <td>1863</td>\n",
       "      <td>Tenchūgumi incident - the year-long rebellion ...</td>\n",
       "      <td>19th century</td>\n",
       "      <td>0</td>\n",
       "    </tr>\n",
       "  </tbody>\n",
       "</table>\n",
       "</div>"
      ],
      "text/plain": [
       "     year                                        description        period  \\\n",
       "16    461  Chronology of the Japanese historical records ...   5th century   \n",
       "17    461  Baekje sends an embassy to Japan, as confirmed...   5th century   \n",
       "102  1192  Kamakura became the de facto capital of Japan ...  12th century   \n",
       "103  1192  Minamoto no Yoritomo seized power from the cen...  12th century   \n",
       "203  1854  Second Visit. Matthew C. Perry returns to Japa...  19th century   \n",
       "204  1854  Matthew C. Perry signs the Convention of Kanag...  19th century   \n",
       "205  1854  The Ansei great earthquakes series starts with...  19th century   \n",
       "213  1863                          Order to expel barbarians  19th century   \n",
       "214  1863                      Battle of Shimonoseki Straits  19th century   \n",
       "215  1863                           Bombardment of Kagoshima  19th century   \n",
       "216  1863  Tenchūgumi incident - the year-long rebellion ...  19th century   \n",
       "\n",
       "    dynasty_id  \n",
       "16           0  \n",
       "17           0  \n",
       "102          0  \n",
       "103          0  \n",
       "203          0  \n",
       "204          0  \n",
       "205          0  \n",
       "213          0  \n",
       "214          0  \n",
       "215          0  \n",
       "216          0  "
      ]
     },
     "execution_count": 27,
     "metadata": {},
     "output_type": "execute_result"
    }
   ],
   "source": [
    "df[(df[\"year\"] == \"461\") | (df[\"year\"] == \"1192\") | (df[\"year\"] == \"1854\") | (df[\"year\"] == \"1863\")]"
   ]
  },
  {
   "cell_type": "code",
   "execution_count": 28,
   "id": "06e0c7e5-0948-4a1c-8ce0-d38087df8aba",
   "metadata": {},
   "outputs": [
    {
     "data": {
      "text/html": [
       "<div>\n",
       "<style scoped>\n",
       "    .dataframe tbody tr th:only-of-type {\n",
       "        vertical-align: middle;\n",
       "    }\n",
       "\n",
       "    .dataframe tbody tr th {\n",
       "        vertical-align: top;\n",
       "    }\n",
       "\n",
       "    .dataframe thead th {\n",
       "        text-align: right;\n",
       "    }\n",
       "</style>\n",
       "<table border=\"1\" class=\"dataframe\">\n",
       "  <thead>\n",
       "    <tr style=\"text-align: right;\">\n",
       "      <th></th>\n",
       "      <th>year</th>\n",
       "      <th>description</th>\n",
       "      <th>period</th>\n",
       "      <th>dynasty_id</th>\n",
       "    </tr>\n",
       "  </thead>\n",
       "  <tbody>\n",
       "    <tr>\n",
       "      <th>305</th>\n",
       "      <td>2018</td>\n",
       "      <td>The tourist boom in Japan reach unprecedented ...</td>\n",
       "      <td>21st century</td>\n",
       "      <td>0</td>\n",
       "    </tr>\n",
       "    <tr>\n",
       "      <th>306</th>\n",
       "      <td>2019</td>\n",
       "      <td>Emperor Akihito abdicated being the first Japa...</td>\n",
       "      <td>21st century</td>\n",
       "      <td>0</td>\n",
       "    </tr>\n",
       "    <tr>\n",
       "      <th>307</th>\n",
       "      <td>2020</td>\n",
       "      <td>The COVID-19 pandemic in Japan begins and the ...</td>\n",
       "      <td>21st century</td>\n",
       "      <td>0</td>\n",
       "    </tr>\n",
       "    <tr>\n",
       "      <th>308</th>\n",
       "      <td>2021</td>\n",
       "      <td>2020 Summer Olympics are held in Japan.</td>\n",
       "      <td>21st century</td>\n",
       "      <td>0</td>\n",
       "    </tr>\n",
       "    <tr>\n",
       "      <th>309</th>\n",
       "      <td>2022</td>\n",
       "      <td>Former Prime Minister Shinzo Abe is assassinat...</td>\n",
       "      <td>21st century</td>\n",
       "      <td>0</td>\n",
       "    </tr>\n",
       "  </tbody>\n",
       "</table>\n",
       "</div>"
      ],
      "text/plain": [
       "     year                                        description        period  \\\n",
       "305  2018  The tourist boom in Japan reach unprecedented ...  21st century   \n",
       "306  2019  Emperor Akihito abdicated being the first Japa...  21st century   \n",
       "307  2020  The COVID-19 pandemic in Japan begins and the ...  21st century   \n",
       "308  2021            2020 Summer Olympics are held in Japan.  21st century   \n",
       "309  2022  Former Prime Minister Shinzo Abe is assassinat...  21st century   \n",
       "\n",
       "    dynasty_id  \n",
       "305          0  \n",
       "306          0  \n",
       "307          0  \n",
       "308          0  \n",
       "309          0  "
      ]
     },
     "execution_count": 28,
     "metadata": {},
     "output_type": "execute_result"
    }
   ],
   "source": [
    "df.tail()"
   ]
  },
  {
   "cell_type": "code",
   "execution_count": 29,
   "id": "751b73f8-ac31-4277-a735-637d448de7e5",
   "metadata": {},
   "outputs": [
    {
     "data": {
      "text/plain": [
       "year           0\n",
       "description    0\n",
       "period         0\n",
       "dynasty_id     0\n",
       "dtype: int64"
      ]
     },
     "execution_count": 29,
     "metadata": {},
     "output_type": "execute_result"
    }
   ],
   "source": [
    "df.isnull().sum()"
   ]
  },
  {
   "cell_type": "code",
   "execution_count": 30,
   "id": "ddad6a60-c06e-48ee-8045-b1a6b323e6b4",
   "metadata": {},
   "outputs": [],
   "source": [
    "df.to_csv(\"japan.csv\")"
   ]
  },
  {
   "cell_type": "code",
   "execution_count": 32,
   "id": "209ed3ad-af61-4d80-949a-ab8ee6090aec",
   "metadata": {},
   "outputs": [],
   "source": [
    "df.to_csv(\"events.csv\")"
   ]
  },
  {
   "cell_type": "code",
   "execution_count": null,
   "id": "0c46a80d-7ef0-44a4-8142-e2ba1eb9165f",
   "metadata": {},
   "outputs": [],
   "source": []
  }
 ],
 "metadata": {
  "kernelspec": {
   "display_name": "Python 3 (ipykernel)",
   "language": "python",
   "name": "python3"
  },
  "language_info": {
   "codemirror_mode": {
    "name": "ipython",
    "version": 3
   },
   "file_extension": ".py",
   "mimetype": "text/x-python",
   "name": "python",
   "nbconvert_exporter": "python",
   "pygments_lexer": "ipython3",
   "version": "3.9.2"
  }
 },
 "nbformat": 4,
 "nbformat_minor": 5
}
